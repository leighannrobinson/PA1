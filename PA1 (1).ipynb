{
 "cells": [
  {
   "cell_type": "markdown",
   "id": "7afe154f",
   "metadata": {},
   "source": [
    "# Programming Assignment 1\n",
    "## Leighann Robinson \n",
    "### Finsished Jupyter Notebook\n",
    "#### CS150 Section 1"
   ]
  },
  {
   "cell_type": "code",
   "execution_count": 5,
   "id": "2ddfdbdf",
   "metadata": {},
   "outputs": [
    {
     "name": "stdout",
     "output_type": "stream",
     "text": [
      "Enter a floating number: 45.25\n"
     ]
    }
   ],
   "source": [
    "number1=float(input(\"Enter a floating number: \"))"
   ]
  },
  {
   "cell_type": "code",
   "execution_count": 3,
   "id": "c0c88267",
   "metadata": {},
   "outputs": [
    {
     "name": "stdout",
     "output_type": "stream",
     "text": [
      "Enter an integer: 80\n"
     ]
    }
   ],
   "source": [
    "number2=int(input(\"Enter an integer: \"))"
   ]
  },
  {
   "cell_type": "code",
   "execution_count": 7,
   "id": "9422ed84",
   "metadata": {},
   "outputs": [],
   "source": [
    "number1=45.25\n",
    "number2=80"
   ]
  },
  {
   "cell_type": "code",
   "execution_count": 8,
   "id": "3ebe3607",
   "metadata": {},
   "outputs": [
    {
     "name": "stdout",
     "output_type": "stream",
     "text": [
      "The sum is 125.25\n"
     ]
    }
   ],
   "source": [
    "print('The sum is', (number1+number2))"
   ]
  },
  {
   "cell_type": "code",
   "execution_count": 9,
   "id": "9fabd9af",
   "metadata": {},
   "outputs": [
    {
     "name": "stdout",
     "output_type": "stream",
     "text": [
      "The difference is -34.75\n"
     ]
    }
   ],
   "source": [
    "print('The difference is', (number1-number2))"
   ]
  },
  {
   "cell_type": "code",
   "execution_count": 10,
   "id": "7b8e7e35",
   "metadata": {},
   "outputs": [
    {
     "name": "stdout",
     "output_type": "stream",
     "text": [
      "The product is 3620.0\n"
     ]
    }
   ],
   "source": [
    "print('The product is', (number1*number2))"
   ]
  },
  {
   "cell_type": "code",
   "execution_count": 11,
   "id": "152c51b3",
   "metadata": {},
   "outputs": [
    {
     "name": "stdout",
     "output_type": "stream",
     "text": [
      "The difference is 0.565625\n"
     ]
    }
   ],
   "source": [
    "print('The difference is', (number1/number2))"
   ]
  },
  {
   "cell_type": "code",
   "execution_count": 15,
   "id": "e2a9a251",
   "metadata": {},
   "outputs": [
    {
     "name": "stdout",
     "output_type": "stream",
     "text": [
      "The type for the result is <class float>.\n"
     ]
    }
   ],
   "source": [
    "difference=0.565625\n",
    "type(difference)\n",
    "print('The type for the result is'+' '+'<class float>.')"
   ]
  }
 ],
 "metadata": {
  "kernelspec": {
   "display_name": "Python 3 (ipykernel)",
   "language": "python",
   "name": "python3"
  },
  "language_info": {
   "codemirror_mode": {
    "name": "ipython",
    "version": 3
   },
   "file_extension": ".py",
   "mimetype": "text/x-python",
   "name": "python",
   "nbconvert_exporter": "python",
   "pygments_lexer": "ipython3",
   "version": "3.9.12"
  }
 },
 "nbformat": 4,
 "nbformat_minor": 5
}
